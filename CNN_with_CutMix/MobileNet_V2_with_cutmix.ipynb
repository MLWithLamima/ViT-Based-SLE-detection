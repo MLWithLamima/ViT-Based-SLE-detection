{
 "cells": [
  {
   "cell_type": "markdown",
   "id": "6d92c399-9c30-459e-bcbe-9fab91b31b3b",
   "metadata": {},
   "source": [
    "# "
   ]
  },
  {
   "cell_type": "code",
   "execution_count": 1,
   "id": "670eff09",
   "metadata": {
    "id": "670eff09"
   },
   "outputs": [],
   "source": [
    "import tensorflow as tf\n",
    "import matplotlib.pyplot as plt\n",
    "import numpy as np\n",
    "import os\n",
    "import random\n",
    "from tensorflow.keras import preprocessing\n",
    "from tensorflow.keras.preprocessing import image\n",
    "from tensorflow.keras.preprocessing.image import ImageDataGenerator\n",
    "from tensorflow.keras.applications import ResNet50\n",
    "from tensorflow.keras.models import Sequential\n",
    "from tensorflow.keras.layers import Dense, Flatten, GlobalAveragePooling2D"
   ]
  },
  {
   "cell_type": "code",
   "execution_count": 2,
   "id": "8dea9022-9189-47f9-ace2-a8860b1f7e8a",
   "metadata": {},
   "outputs": [],
   "source": [
    "SEED = 42\n",
    "np.random.seed(SEED)\n",
    "random.seed(SEED)\n",
    "tf.random.set_seed(SEED)"
   ]
  },
  {
   "cell_type": "code",
   "execution_count": 3,
   "id": "324449ac",
   "metadata": {
    "id": "324449ac"
   },
   "outputs": [],
   "source": [
    "train = ImageDataGenerator(rescale = 1.0/255)\n",
    "validation = ImageDataGenerator(rescale = 1.0/255)"
   ]
  },
  {
   "cell_type": "code",
   "execution_count": 4,
   "id": "bc1e56a9",
   "metadata": {
    "colab": {
     "base_uri": "https://localhost:8080/"
    },
    "id": "bc1e56a9",
    "outputId": "b95862c4-ca5f-44ba-b6a8-4cb93c87d550"
   },
   "outputs": [
    {
     "name": "stdout",
     "output_type": "stream",
     "text": [
      "Found 8790 images belonging to 2 classes.\n",
      "Found 1120 images belonging to 2 classes.\n"
     ]
    }
   ],
   "source": [
    "train_dataset = train.flow_from_directory(\"C:/Users/lamim/Desktop/N_Thesis/split_dataset3/train\",\n",
    "                                          target_size = (224,224),\n",
    "                                          batch_size = 32,\n",
    "                                          class_mode = 'categorical')\n",
    "validation_dataset = validation.flow_from_directory(\"C:/Users/lamim/Desktop/N_Thesis/split_dataset3/val\",\n",
    "                                          target_size = (224,224),\n",
    "                                          batch_size = 32,\n",
    "                                          class_mode = 'categorical')"
   ]
  },
  {
   "cell_type": "code",
   "execution_count": 5,
   "id": "63cfce13",
   "metadata": {
    "colab": {
     "base_uri": "https://localhost:8080/"
    },
    "id": "63cfce13",
    "outputId": "334b3883-1f63-465e-e0f6-d39a01457151"
   },
   "outputs": [
    {
     "data": {
      "text/plain": [
       "{'BMR': 0, 'RASH': 1}"
      ]
     },
     "execution_count": 5,
     "metadata": {},
     "output_type": "execute_result"
    }
   ],
   "source": [
    "train_dataset.class_indices"
   ]
  },
  {
   "cell_type": "code",
   "execution_count": 6,
   "id": "19427a79",
   "metadata": {
    "colab": {
     "base_uri": "https://localhost:8080/"
    },
    "id": "19427a79",
    "outputId": "d91780fb-2636-4afb-d790-19d00750793b"
   },
   "outputs": [
    {
     "data": {
      "text/plain": [
       "{'BMR': 0, 'RASH': 1}"
      ]
     },
     "execution_count": 6,
     "metadata": {},
     "output_type": "execute_result"
    }
   ],
   "source": [
    "validation_dataset.class_indices"
   ]
  },
  {
   "cell_type": "code",
   "execution_count": 7,
   "id": "118ba481",
   "metadata": {
    "colab": {
     "base_uri": "https://localhost:8080/"
    },
    "id": "118ba481",
    "outputId": "ae02640c-dbcd-4a2b-e240-c8032e0535c8"
   },
   "outputs": [
    {
     "data": {
      "text/plain": [
       "array([0, 0, 0, ..., 1, 1, 1])"
      ]
     },
     "execution_count": 7,
     "metadata": {},
     "output_type": "execute_result"
    }
   ],
   "source": [
    "train_dataset.classes"
   ]
  },
  {
   "cell_type": "code",
   "execution_count": 8,
   "id": "24799ff0",
   "metadata": {
    "colab": {
     "base_uri": "https://localhost:8080/"
    },
    "id": "24799ff0",
    "outputId": "78c32031-592d-4a99-ed93-9b822acfa2c0"
   },
   "outputs": [
    {
     "data": {
      "text/plain": [
       "array([0, 0, 0, ..., 1, 1, 1])"
      ]
     },
     "execution_count": 8,
     "metadata": {},
     "output_type": "execute_result"
    }
   ],
   "source": [
    "validation_dataset.classes"
   ]
  },
  {
   "cell_type": "code",
   "execution_count": 9,
   "id": "a931685a-e016-4f75-8662-82d5cf53fce7",
   "metadata": {},
   "outputs": [],
   "source": [
    "class CutMixImageDataGenerator(tf.keras.utils.Sequence):\n",
    "    \"\"\"Custom ImageDataGenerator that applies CutMix augmentation.\"\"\"\n",
    "    def __init__(self, generator, batch_size, beta=1.0):\n",
    "        self.generator = generator\n",
    "        self.batch_size = batch_size\n",
    "        self.beta = beta\n",
    "\n",
    "    def __len__(self):\n",
    "        return len(self.generator)\n",
    "\n",
    "    def __getitem__(self, index):\n",
    "        images, labels = self.generator[index]  # Get a batch\n",
    "\n",
    "        # Sample lambda from Beta distribution\n",
    "        lam = np.random.beta(self.beta, self.beta)\n",
    "\n",
    "        # Generate random indices for CutMix\n",
    "        rand_index = np.random.permutation(self.batch_size)\n",
    "\n",
    "        # Mix images\n",
    "        mixed_images = lam * images + (1 - lam) * images[rand_index]\n",
    "        \n",
    "        # Mix labels\n",
    "        mixed_labels = lam * labels + (1 - lam) * labels[rand_index]\n",
    "\n",
    "        return mixed_images, mixed_labels\n"
   ]
  },
  {
   "cell_type": "code",
   "execution_count": 10,
   "id": "75a659ec",
   "metadata": {
    "colab": {
     "base_uri": "https://localhost:8080/"
    },
    "id": "75a659ec",
    "outputId": "a706eb0f-74b1-4bb8-ce64-79fc61a515a0"
   },
   "outputs": [
    {
     "name": "stdout",
     "output_type": "stream",
     "text": [
      "Epoch 1/10\n"
     ]
    },
    {
     "name": "stderr",
     "output_type": "stream",
     "text": [
      "C:\\Users\\lamim\\anaconda3\\Lib\\site-packages\\keras\\src\\trainers\\data_adapters\\py_dataset_adapter.py:121: UserWarning: Your `PyDataset` class should call `super().__init__(**kwargs)` in its constructor. `**kwargs` can include `workers`, `use_multiprocessing`, `max_queue_size`. Do not pass these arguments to `fit()`, as they will be ignored.\n",
      "  self._warn_if_super_not_called()\n"
     ]
    },
    {
     "name": "stdout",
     "output_type": "stream",
     "text": [
      "\u001b[1m275/275\u001b[0m \u001b[32m━━━━━━━━━━━━━━━━━━━━\u001b[0m\u001b[37m\u001b[0m \u001b[1m213s\u001b[0m 739ms/step - accuracy: 0.6120 - loss: 0.7022 - precision: 0.6120 - recall: 0.6120 - val_accuracy: 0.8223 - val_loss: 0.4255 - val_precision: 0.8223 - val_recall: 0.8223 - learning_rate: 0.0010\n",
      "Epoch 2/10\n",
      "\u001b[1m275/275\u001b[0m \u001b[32m━━━━━━━━━━━━━━━━━━━━\u001b[0m\u001b[37m\u001b[0m \u001b[1m201s\u001b[0m 730ms/step - accuracy: 0.7789 - loss: 0.4834 - precision: 0.7789 - recall: 0.7789 - val_accuracy: 0.8357 - val_loss: 0.3991 - val_precision: 0.8357 - val_recall: 0.8357 - learning_rate: 0.0010\n",
      "Epoch 3/10\n",
      "\u001b[1m275/275\u001b[0m \u001b[32m━━━━━━━━━━━━━━━━━━━━\u001b[0m\u001b[37m\u001b[0m \u001b[1m200s\u001b[0m 726ms/step - accuracy: 0.7809 - loss: 0.4725 - precision: 0.7809 - recall: 0.7809 - val_accuracy: 0.8062 - val_loss: 0.4143 - val_precision: 0.8062 - val_recall: 0.8062 - learning_rate: 0.0010\n",
      "Epoch 4/10\n",
      "\u001b[1m275/275\u001b[0m \u001b[32m━━━━━━━━━━━━━━━━━━━━\u001b[0m\u001b[37m\u001b[0m \u001b[1m0s\u001b[0m 645ms/step - accuracy: 0.7939 - loss: 0.4539 - precision: 0.7939 - recall: 0.7939\n",
      "Epoch 4: ReduceLROnPlateau reducing learning rate to 0.0003000000142492354.\n",
      "\u001b[1m275/275\u001b[0m \u001b[32m━━━━━━━━━━━━━━━━━━━━\u001b[0m\u001b[37m\u001b[0m \u001b[1m200s\u001b[0m 727ms/step - accuracy: 0.7939 - loss: 0.4539 - precision: 0.7939 - recall: 0.7939 - val_accuracy: 0.8188 - val_loss: 0.4038 - val_precision: 0.8188 - val_recall: 0.8188 - learning_rate: 0.0010\n",
      "Epoch 5/10\n",
      "\u001b[1m275/275\u001b[0m \u001b[32m━━━━━━━━━━━━━━━━━━━━\u001b[0m\u001b[37m\u001b[0m \u001b[1m202s\u001b[0m 734ms/step - accuracy: 0.8014 - loss: 0.4465 - precision: 0.8014 - recall: 0.8014 - val_accuracy: 0.8268 - val_loss: 0.3966 - val_precision: 0.8268 - val_recall: 0.8268 - learning_rate: 3.0000e-04\n",
      "Epoch 6/10\n",
      "\u001b[1m275/275\u001b[0m \u001b[32m━━━━━━━━━━━━━━━━━━━━\u001b[0m\u001b[37m\u001b[0m \u001b[1m200s\u001b[0m 729ms/step - accuracy: 0.8006 - loss: 0.4382 - precision: 0.8006 - recall: 0.8006 - val_accuracy: 0.8313 - val_loss: 0.3940 - val_precision: 0.8313 - val_recall: 0.8313 - learning_rate: 3.0000e-04\n",
      "Epoch 7/10\n",
      "\u001b[1m275/275\u001b[0m \u001b[32m━━━━━━━━━━━━━━━━━━━━\u001b[0m\u001b[37m\u001b[0m \u001b[1m202s\u001b[0m 733ms/step - accuracy: 0.8081 - loss: 0.4397 - precision: 0.8081 - recall: 0.8081 - val_accuracy: 0.8277 - val_loss: 0.4031 - val_precision: 0.8277 - val_recall: 0.8277 - learning_rate: 3.0000e-04\n",
      "Epoch 8/10\n",
      "\u001b[1m275/275\u001b[0m \u001b[32m━━━━━━━━━━━━━━━━━━━━\u001b[0m\u001b[37m\u001b[0m \u001b[1m0s\u001b[0m 644ms/step - accuracy: 0.8061 - loss: 0.4357 - precision: 0.8061 - recall: 0.8061\n",
      "Epoch 8: ReduceLROnPlateau reducing learning rate to 9.000000427477062e-05.\n",
      "\u001b[1m275/275\u001b[0m \u001b[32m━━━━━━━━━━━━━━━━━━━━\u001b[0m\u001b[37m\u001b[0m \u001b[1m200s\u001b[0m 728ms/step - accuracy: 0.8061 - loss: 0.4357 - precision: 0.8061 - recall: 0.8061 - val_accuracy: 0.8295 - val_loss: 0.3987 - val_precision: 0.8295 - val_recall: 0.8295 - learning_rate: 3.0000e-04\n",
      "Epoch 9/10\n",
      "\u001b[1m275/275\u001b[0m \u001b[32m━━━━━━━━━━━━━━━━━━━━\u001b[0m\u001b[37m\u001b[0m \u001b[1m202s\u001b[0m 735ms/step - accuracy: 0.8059 - loss: 0.4328 - precision: 0.8059 - recall: 0.8059 - val_accuracy: 0.8277 - val_loss: 0.4002 - val_precision: 0.8277 - val_recall: 0.8277 - learning_rate: 9.0000e-05\n",
      "Epoch 10/10\n",
      "\u001b[1m275/275\u001b[0m \u001b[32m━━━━━━━━━━━━━━━━━━━━\u001b[0m\u001b[37m\u001b[0m \u001b[1m0s\u001b[0m 642ms/step - accuracy: 0.8125 - loss: 0.4361 - precision: 0.8125 - recall: 0.8125\n",
      "Epoch 10: ReduceLROnPlateau reducing learning rate to 2.700000040931627e-05.\n",
      "\u001b[1m275/275\u001b[0m \u001b[32m━━━━━━━━━━━━━━━━━━━━\u001b[0m\u001b[37m\u001b[0m \u001b[1m199s\u001b[0m 725ms/step - accuracy: 0.8125 - loss: 0.4361 - precision: 0.8125 - recall: 0.8125 - val_accuracy: 0.8330 - val_loss: 0.3953 - val_precision: 0.8330 - val_recall: 0.8330 - learning_rate: 9.0000e-05\n"
     ]
    }
   ],
   "source": [
    "import tensorflow as tf\n",
    "import numpy as np\n",
    "from tensorflow.keras.models import Sequential\n",
    "from tensorflow.keras.layers import GlobalAveragePooling2D, Dense, Dropout\n",
    "from tensorflow.keras.callbacks import ReduceLROnPlateau\n",
    "from tensorflow.keras.applications import DenseNet121\n",
    "from tensorflow.keras.regularizers import l2\n",
    "\n",
    "# Load the Xception model with pretrained weights\n",
    "base_model = DenseNet121(weights='imagenet', include_top=False, input_shape=(224, 224, 3))\n",
    "\n",
    "# Freeze the base model layers\n",
    "base_model.trainable = False\n",
    "\n",
    "# Build the updated model\n",
    "model = Sequential([\n",
    "    base_model,\n",
    "    GlobalAveragePooling2D(),  # Feature reduction\n",
    "    Dropout(0.2),  # Add dropout for regularization\n",
    "    Dense(2, activation='softmax', kernel_regularizer=l2(0.01))  # Output layer for 2 classes\n",
    "])\n",
    "\n",
    "# Compile the model\n",
    "model.compile(\n",
    "    optimizer=tf.keras.optimizers.Adam(learning_rate=0.001),  # Initial learning rate\n",
    "    loss='categorical_crossentropy',\n",
    "    metrics=[\n",
    "        'accuracy',\n",
    "        tf.keras.metrics.Precision(name='precision'),\n",
    "        tf.keras.metrics.Recall(name='recall')\n",
    "    ]\n",
    ")\n",
    "\n",
    "# ============================\n",
    "# 📉 Step 4: Learning Rate Scheduler\n",
    "# ============================\n",
    "lr_scheduler = ReduceLROnPlateau(monitor='val_loss', factor=0.3, patience=2, min_lr=1e-6, verbose=1)\n",
    "\n",
    "# ============================\n",
    "# 🚀 Step 5: Train Model with CutMix\n",
    "# ============================\n",
    "history = model.fit(\n",
    "    train_dataset,  # CutMix-applied dataset\n",
    "    validation_data=validation_dataset,  # Validation remains unchanged\n",
    "    epochs=10,\n",
    "    callbacks=[lr_scheduler]  # Added learning rate scheduler\n",
    ")\n"
   ]
  },
  {
   "cell_type": "code",
   "execution_count": 11,
   "id": "ad84480e",
   "metadata": {
    "colab": {
     "base_uri": "https://localhost:8080/",
     "height": 607
    },
    "id": "ad84480e",
    "outputId": "6ca18623-55cd-4426-db6a-65e518d96f4d",
    "scrolled": true
   },
   "outputs": [
    {
     "data": {
      "image/png": "[encoded data removed]",
      "text/plain": [
       "<Figure size 1400x600 with 2 Axes>"
      ]
     },
     "metadata": {},
     "output_type": "display_data"
    },
    {
     "name": "stdout",
     "output_type": "stream",
     "text": [
      "Plot saved to: C:\\Users\\lamim\\Desktop\\N_Thesis\\BMR_CNN\\RESULT_VGG_16\\training_plot.png\n"
     ]
    }
   ],
   "source": [
    "import matplotlib.pyplot as plt\n",
    "import os\n",
    "import csv\n",
    "\n",
    "# Example: extracting history\n",
    "train_accuracy = history.history['accuracy']\n",
    "val_accuracy = history.history['val_accuracy']\n",
    "train_loss = history.history['loss']\n",
    "val_loss = history.history['val_loss']\n",
    "epochs = range(1, len(train_accuracy) + 1)\n",
    "\n",
    "# Create an output directory if you like\n",
    "output_dir = \"my_results\"\n",
    "os.makedirs(output_dir, exist_ok=True)\n",
    "\n",
    "# Save your CSV logs (optional, if desired)\n",
    "csv_path = os.path.join(output_dir, \"training_log.csv\")\n",
    "with open(csv_path, mode='w', newline='') as csv_file:\n",
    "    writer = csv.writer(csv_file)\n",
    "    writer.writerow([\"Epoch\", \"Train Accuracy\", \"Val Accuracy\", \"Train Loss\", \"Val Loss\"])\n",
    "    for epoch in epochs:\n",
    "        writer.writerow([\n",
    "            epoch,\n",
    "            train_accuracy[epoch-1],\n",
    "            val_accuracy[epoch-1],\n",
    "            train_loss[epoch-1],\n",
    "            val_loss[epoch-1]\n",
    "        ])\n",
    "\n",
    "# Plot\n",
    "plt.figure(figsize=(14, 6))\n",
    "\n",
    "# Subplot for Accuracy\n",
    "plt.subplot(1, 2, 1)\n",
    "plt.plot(epochs, train_accuracy, label='Training Accuracy', marker='o')\n",
    "plt.plot(epochs, val_accuracy, label='Validation Accuracy', marker='o')\n",
    "plt.title('Model Accuracy')\n",
    "plt.xlabel('Epochs')\n",
    "plt.ylabel('Accuracy')\n",
    "plt.xticks(epochs)\n",
    "plt.legend()\n",
    "plt.grid()\n",
    "\n",
    "# Subplot for Loss\n",
    "plt.subplot(1, 2, 2)\n",
    "plt.plot(epochs, train_loss, label='Training Loss', marker='o')\n",
    "plt.plot(epochs, val_loss, label='Validation Loss', marker='o')\n",
    "plt.title('Model Loss')\n",
    "plt.xlabel('Epochs')\n",
    "plt.ylabel('Loss')\n",
    "plt.xticks(epochs)\n",
    "plt.legend()\n",
    "plt.grid()\n",
    "\n",
    "plt.tight_layout()\n",
    "# Suppose you want a folder \"RESULT_DenseNet121\" + a filename \"training_plot.png\"\n",
    "output_dir = r\"C:\\Users\\lamim\\Desktop\\N_Thesis\\BMR_CNN\\RESULT_VGG_16\"\n",
    "os.makedirs(output_dir, exist_ok=True)  # Create folder if needed\n",
    "\n",
    "fig_path = os.path.join(output_dir, \"training_plot.png\")\n",
    "plt.savefig(fig_path, dpi=300)\n",
    "plt.show()\n",
    "\n",
    "print(f\"Plot saved to: {fig_path}\")\n"
   ]
  },
  {
   "cell_type": "code",
   "execution_count": 12,
   "id": "8832b59e-7053-4010-8b5e-2c61a6d08352",
   "metadata": {},
   "outputs": [
    {
     "name": "stdout",
     "output_type": "stream",
     "text": [
      "Final Epoch: 10\n",
      "Training Accuracy: 0.8124\n",
      "Validation Accuracy: 0.8330\n"
     ]
    }
   ],
   "source": [
    "import os\n",
    "\n",
    "final_epoch = len(train_accuracy)\n",
    "final_train_acc = train_accuracy[-1]\n",
    "final_val_acc = val_accuracy[-1]\n",
    "final_train_loss = train_loss[-1]\n",
    "final_val_loss = val_loss[-1]\n",
    "\n",
    "print(\"Final Epoch:\", final_epoch)\n",
    "print(f\"Training Accuracy: {final_train_acc:.4f}\")\n",
    "print(f\"Validation Accuracy: {final_val_acc:.4f}\")\n"
   ]
  },
  {
   "cell_type": "code",
   "execution_count": 13,
   "id": "833ed974-1756-42a9-afa6-441c7ef2a0cf",
   "metadata": {},
   "outputs": [
    {
     "name": "stdout",
     "output_type": "stream",
     "text": [
      "Found 1130 images belonging to 2 classes.\n"
     ]
    }
   ],
   "source": [
    "from tensorflow.keras.preprocessing.image import ImageDataGenerator\n",
    "\n",
    "test_datagen = ImageDataGenerator(rescale=1.0/255)  # Normalize test images\n",
    "\n",
    "test_dataset = test_datagen.flow_from_directory(\n",
    "    \"C:/Users/lamim/Desktop/N_Thesis/split_dataset3/test\",\n",
    "    target_size=(224, 224),\n",
    "    batch_size=32,\n",
    "    class_mode=\"categorical\",\n",
    "    shuffle=False\n",
    ")"
   ]
  },
  {
   "cell_type": "code",
   "execution_count": 14,
   "id": "7dc7f8c1-cb88-4f44-9399-65bd79406785",
   "metadata": {},
   "outputs": [
    {
     "name": "stderr",
     "output_type": "stream",
     "text": [
      "C:\\Users\\lamim\\anaconda3\\Lib\\site-packages\\keras\\src\\trainers\\data_adapters\\py_dataset_adapter.py:121: UserWarning: Your `PyDataset` class should call `super().__init__(**kwargs)` in its constructor. `**kwargs` can include `workers`, `use_multiprocessing`, `max_queue_size`. Do not pass these arguments to `fit()`, as they will be ignored.\n",
      "  self._warn_if_super_not_called()\n"
     ]
    },
    {
     "name": "stdout",
     "output_type": "stream",
     "text": [
      "\u001b[1m36/36\u001b[0m \u001b[32m━━━━━━━━━━━━━━━━━━━━\u001b[0m\u001b[37m\u001b[0m \u001b[1m30s\u001b[0m 638ms/step - accuracy: 0.8177 - loss: 0.4091 - precision: 0.8177 - recall: 0.8177\n",
      "Test Accuracy: 0.7776\n"
     ]
    }
   ],
   "source": [
    "results = model.evaluate(test_dataset)  # Evaluate the test dataset\n",
    "test_acc = results[1] \n",
    "\n",
    "print(f\"Test Accuracy: {test_acc:.4f}\")"
   ]
  },
  {
   "cell_type": "code",
   "execution_count": 15,
   "id": "356a62ec-49a0-49c3-8c49-ca953d58b37c",
   "metadata": {},
   "outputs": [
    {
     "name": "stdout",
     "output_type": "stream",
     "text": [
      "\u001b[1m36/36\u001b[0m \u001b[32m━━━━━━━━━━━━━━━━━━━━\u001b[0m\u001b[37m\u001b[0m \u001b[1m24s\u001b[0m 641ms/step - accuracy: 0.8177 - loss: 0.4091 - precision: 0.8177 - recall: 0.8177\n",
      "Final Epoch: 10\n",
      "Training Accuracy: 0.8124\n",
      "Validation Accuracy: 0.8330\n",
      "Validation Precision: 0.8330\n",
      "Validation Recall: 0.8330\n",
      "Test Accuracy: 0.7776\n"
     ]
    }
   ],
   "source": [
    "import os\n",
    "\n",
    "# Extract final training and validation metrics\n",
    "final_epoch = len(train_accuracy)\n",
    "final_train_acc = train_accuracy[-1]\n",
    "final_val_acc = val_accuracy[-1]\n",
    "final_train_loss = train_loss[-1]\n",
    "final_val_loss = val_loss[-1]\n",
    "\n",
    "# Extract final validation precision & recall from training history\n",
    "final_val_precision = history.history[\"val_precision\"][-1]  # Validation Precision\n",
    "final_val_recall = history.history[\"val_recall\"][-1]  # Validation Recall\n",
    "\n",
    "# Evaluate the model on test dataset\n",
    "test_results = model.evaluate(test_dataset)  # Returns test loss, accuracy, precision, recall\n",
    "\n",
    "# Extract test metrics\n",
    "test_loss = test_results[0]  # Test loss\n",
    "test_acc = test_results[1]  # Test accuracy\n",
    "test_precision = test_results[2]  # Test precision\n",
    "test_recall = test_results[3]  # Test recall\n",
    "\n",
    "# Print all results\n",
    "print(\"Final Epoch:\", final_epoch)\n",
    "print(f\"Training Accuracy: {final_train_acc:.4f}\")\n",
    "print(f\"Validation Accuracy: {final_val_acc:.4f}\")\n",
    "print(f\"Validation Precision: {final_val_precision:.4f}\")\n",
    "print(f\"Validation Recall: {final_val_recall:.4f}\")\n",
    "print(f\"Test Accuracy: {test_acc:.4f}\")\n",
    "\n",
    "output_dir = \"C:/Users/lamim/Desktop/N_Thesis/BMR_CNN/RESULT_Xception1\""
   ]
  },
  {
   "cell_type": "code",
   "execution_count": 16,
   "id": "b7013c6d-8f6e-40e1-9c58-1e6d0f73ab92",
   "metadata": {},
   "outputs": [
    {
     "data": {
      "text/html": [
       "<pre style=\"white-space:pre;overflow-x:auto;line-height:normal;font-family:Menlo,'DejaVu Sans Mono',consolas,'Courier New',monospace\"><span style=\"font-weight: bold\">Model: \"sequential\"</span>\n",
       "</pre>\n"
      ],
      "text/plain": [
       "\u001b[1mModel: \"sequential\"\u001b[0m\n"
      ]
     },
     "metadata": {},
     "output_type": "display_data"
    },
    {
     "data": {
      "text/html": [
       "<pre style=\"white-space:pre;overflow-x:auto;line-height:normal;font-family:Menlo,'DejaVu Sans Mono',consolas,'Courier New',monospace\">┏━━━━━━━━━━━━━━━━━━━━━━━━━━━━━━━━━━━━━━┳━━━━━━━━━━━━━━━━━━━━━━━━━━━━━┳━━━━━━━━━━━━━━━━━┓\n",
       "┃<span style=\"font-weight: bold\"> Layer (type)                         </span>┃<span style=\"font-weight: bold\"> Output Shape                </span>┃<span style=\"font-weight: bold\">         Param # </span>┃\n",
       "┡━━━━━━━━━━━━━━━━━━━━━━━━━━━━━━━━━━━━━━╇━━━━━━━━━━━━━━━━━━━━━━━━━━━━━╇━━━━━━━━━━━━━━━━━┩\n",
       "│ densenet121 (<span style=\"color: #0087ff; text-decoration-color: #0087ff\">Functional</span>)             │ (<span style=\"color: #00d7ff; text-decoration-color: #00d7ff\">None</span>, <span style=\"color: #00af00; text-decoration-color: #00af00\">7</span>, <span style=\"color: #00af00; text-decoration-color: #00af00\">7</span>, <span style=\"color: #00af00; text-decoration-color: #00af00\">1024</span>)          │       <span style=\"color: #00af00; text-decoration-color: #00af00\">7,037,504</span> │\n",
       "├──────────────────────────────────────┼─────────────────────────────┼─────────────────┤\n",
       "│ global_average_pooling2d             │ (<span style=\"color: #00d7ff; text-decoration-color: #00d7ff\">None</span>, <span style=\"color: #00af00; text-decoration-color: #00af00\">1024</span>)                │               <span style=\"color: #00af00; text-decoration-color: #00af00\">0</span> │\n",
       "│ (<span style=\"color: #0087ff; text-decoration-color: #0087ff\">GlobalAveragePooling2D</span>)             │                             │                 │\n",
       "├──────────────────────────────────────┼─────────────────────────────┼─────────────────┤\n",
       "│ dropout (<span style=\"color: #0087ff; text-decoration-color: #0087ff\">Dropout</span>)                    │ (<span style=\"color: #00d7ff; text-decoration-color: #00d7ff\">None</span>, <span style=\"color: #00af00; text-decoration-color: #00af00\">1024</span>)                │               <span style=\"color: #00af00; text-decoration-color: #00af00\">0</span> │\n",
       "├──────────────────────────────────────┼─────────────────────────────┼─────────────────┤\n",
       "│ dense (<span style=\"color: #0087ff; text-decoration-color: #0087ff\">Dense</span>)                        │ (<span style=\"color: #00d7ff; text-decoration-color: #00d7ff\">None</span>, <span style=\"color: #00af00; text-decoration-color: #00af00\">2</span>)                   │           <span style=\"color: #00af00; text-decoration-color: #00af00\">2,050</span> │\n",
       "└──────────────────────────────────────┴─────────────────────────────┴─────────────────┘\n",
       "</pre>\n"
      ],
      "text/plain": [
       "┏━━━━━━━━━━━━━━━━━━━━━━━━━━━━━━━━━━━━━━┳━━━━━━━━━━━━━━━━━━━━━━━━━━━━━┳━━━━━━━━━━━━━━━━━┓\n",
       "┃\u001b[1m \u001b[0m\u001b[1mLayer (type)                        \u001b[0m\u001b[1m \u001b[0m┃\u001b[1m \u001b[0m\u001b[1mOutput Shape               \u001b[0m\u001b[1m \u001b[0m┃\u001b[1m \u001b[0m\u001b[1m        Param #\u001b[0m\u001b[1m \u001b[0m┃\n",
       "┡━━━━━━━━━━━━━━━━━━━━━━━━━━━━━━━━━━━━━━╇━━━━━━━━━━━━━━━━━━━━━━━━━━━━━╇━━━━━━━━━━━━━━━━━┩\n",
       "│ densenet121 (\u001b[38;5;33mFunctional\u001b[0m)             │ (\u001b[38;5;45mNone\u001b[0m, \u001b[38;5;34m7\u001b[0m, \u001b[38;5;34m7\u001b[0m, \u001b[38;5;34m1024\u001b[0m)          │       \u001b[38;5;34m7,037,504\u001b[0m │\n",
       "├──────────────────────────────────────┼─────────────────────────────┼─────────────────┤\n",
       "│ global_average_pooling2d             │ (\u001b[38;5;45mNone\u001b[0m, \u001b[38;5;34m1024\u001b[0m)                │               \u001b[38;5;34m0\u001b[0m │\n",
       "│ (\u001b[38;5;33mGlobalAveragePooling2D\u001b[0m)             │                             │                 │\n",
       "├──────────────────────────────────────┼─────────────────────────────┼─────────────────┤\n",
       "│ dropout (\u001b[38;5;33mDropout\u001b[0m)                    │ (\u001b[38;5;45mNone\u001b[0m, \u001b[38;5;34m1024\u001b[0m)                │               \u001b[38;5;34m0\u001b[0m │\n",
       "├──────────────────────────────────────┼─────────────────────────────┼─────────────────┤\n",
       "│ dense (\u001b[38;5;33mDense\u001b[0m)                        │ (\u001b[38;5;45mNone\u001b[0m, \u001b[38;5;34m2\u001b[0m)                   │           \u001b[38;5;34m2,050\u001b[0m │\n",
       "└──────────────────────────────────────┴─────────────────────────────┴─────────────────┘\n"
      ]
     },
     "metadata": {},
     "output_type": "display_data"
    },
    {
     "data": {
      "text/html": [
       "<pre style=\"white-space:pre;overflow-x:auto;line-height:normal;font-family:Menlo,'DejaVu Sans Mono',consolas,'Courier New',monospace\"><span style=\"font-weight: bold\"> Total params: </span><span style=\"color: #00af00; text-decoration-color: #00af00\">7,039,554</span> (26.85 MB)\n",
       "</pre>\n"
      ],
      "text/plain": [
       "\u001b[1m Total params: \u001b[0m\u001b[38;5;34m7,039,554\u001b[0m (26.85 MB)\n"
      ]
     },
     "metadata": {},
     "output_type": "display_data"
    },
    {
     "data": {
      "text/html": [
       "<pre style=\"white-space:pre;overflow-x:auto;line-height:normal;font-family:Menlo,'DejaVu Sans Mono',consolas,'Courier New',monospace\"><span style=\"font-weight: bold\"> Trainable params: </span><span style=\"color: #00af00; text-decoration-color: #00af00\">2,050</span> (8.01 KB)\n",
       "</pre>\n"
      ],
      "text/plain": [
       "\u001b[1m Trainable params: \u001b[0m\u001b[38;5;34m2,050\u001b[0m (8.01 KB)\n"
      ]
     },
     "metadata": {},
     "output_type": "display_data"
    },
    {
     "data": {
      "text/html": [
       "<pre style=\"white-space:pre;overflow-x:auto;line-height:normal;font-family:Menlo,'DejaVu Sans Mono',consolas,'Courier New',monospace\"><span style=\"font-weight: bold\"> Non-trainable params: </span><span style=\"color: #00af00; text-decoration-color: #00af00\">7,037,504</span> (26.85 MB)\n",
       "</pre>\n"
      ],
      "text/plain": [
       "\u001b[1m Non-trainable params: \u001b[0m\u001b[38;5;34m7,037,504\u001b[0m (26.85 MB)\n"
      ]
     },
     "metadata": {},
     "output_type": "display_data"
    },
    {
     "name": "stdout",
     "output_type": "stream",
     "text": [
      "\n",
      "================ MODEL DETAILS ================\n",
      "Total Parameters: 7039554\n",
      "Trainable Parameters: 2050\n",
      "Non-Trainable Parameters: 7037504\n",
      "Number of Layers: 4\n",
      "\n",
      "===============================================\n",
      "\n",
      "Layer-wise Trainability:\n",
      "densenet121: Trainable = False\n",
      "global_average_pooling2d: Trainable = True\n",
      "dropout: Trainable = True\n",
      "dense: Trainable = True\n"
     ]
    }
   ],
   "source": [
    "import tensorflow as tf\n",
    "import numpy as np\n",
    "\n",
    "# Print Model Summary\n",
    "model.summary()\n",
    "\n",
    "# Count Trainable and Non-Trainable Parameters\n",
    "trainable_params = np.sum([tf.keras.backend.count_params(w) for w in model.trainable_weights])\n",
    "non_trainable_params = np.sum([tf.keras.backend.count_params(w) for w in model.non_trainable_weights])\n",
    "\n",
    "# Print Details\n",
    "print(\"\\n================ MODEL DETAILS ================\")\n",
    "print(f\"Total Parameters: {trainable_params + non_trainable_params}\")\n",
    "print(f\"Trainable Parameters: {trainable_params}\")\n",
    "print(f\"Non-Trainable Parameters: {non_trainable_params}\")\n",
    "print(f\"Number of Layers: {len(model.layers)}\")\n",
    "print(\"\\n===============================================\")\n",
    "\n",
    "# Print Layer-wise Trainable Status\n",
    "print(\"\\nLayer-wise Trainability:\")\n",
    "for layer in model.layers:\n",
    "    print(f\"{layer.name}: Trainable = {layer.trainable}\")"
   ]
  },
  {
   "cell_type": "code",
   "execution_count": 17,
   "id": "4f0b80f5-fa3b-42cf-a174-b28b0c3e7c15",
   "metadata": {},
   "outputs": [],
   "source": [
    "import numpy as np\n",
    "import matplotlib.pyplot as plt\n",
    "import seaborn as sns\n",
    "from sklearn.metrics import confusion_matrix, classification_report\n",
    "\n"
   ]
  },
  {
   "cell_type": "code",
   "execution_count": 18,
   "id": "97e57814-1b36-40a8-8b52-f15f69e65973",
   "metadata": {},
   "outputs": [
    {
     "name": "stdout",
     "output_type": "stream",
     "text": [
      "\u001b[1m36/36\u001b[0m \u001b[32m━━━━━━━━━━━━━━━━━━━━\u001b[0m\u001b[37m\u001b[0m \u001b[1m30s\u001b[0m 740ms/step\n"
     ]
    }
   ],
   "source": [
    "# Get true labels from the test dataset\n",
    "true_labels = test_dataset.classes  # Assuming your test dataset is from flow_from_directory\n",
    "\n",
    "# Predict class probabilities\n",
    "y_pred_probs = model.predict(test_dataset)\n",
    "\n",
    "# Convert probabilities to class labels\n",
    "y_pred = np.argmax(y_pred_probs, axis=1)\n"
   ]
  },
  {
   "cell_type": "code",
   "execution_count": 19,
   "id": "50fa53b2-6cf2-4ae0-98ea-675ee7c73ca6",
   "metadata": {},
   "outputs": [
    {
     "data": {
      "image/png": "[encoded data removed]",
      "text/plain": [
       "<Figure size 600x400 with 2 Axes>"
      ]
     },
     "metadata": {},
     "output_type": "display_data"
    }
   ],
   "source": [
    "# Generate confusion matrix\n",
    "cm = confusion_matrix(true_labels, y_pred)\n",
    "\n",
    "# Define class names\n",
    "class_names = list(test_dataset.class_indices.keys())  # ['BMR', 'RASH']\n",
    "\n",
    "# Plot confusion matrix\n",
    "plt.figure(figsize=(6, 4))\n",
    "sns.heatmap(cm, annot=True, fmt=\"d\", cmap=\"Blues\", xticklabels=class_names, yticklabels=class_names)\n",
    "plt.xlabel(\"Predicted\")\n",
    "plt.ylabel(\"True\")\n",
    "plt.title(\"Confusion Matrix\")\n",
    "plt.show()\n"
   ]
  },
  {
   "cell_type": "code",
   "execution_count": 20,
   "id": "c5007f47-5654-488d-b73f-877d90633283",
   "metadata": {},
   "outputs": [
    {
     "name": "stdout",
     "output_type": "stream",
     "text": [
      "Classification Report:\n",
      "              precision    recall  f1-score   support\n",
      "\n",
      "         BMR       0.78      0.82      0.80       620\n",
      "        RASH       0.77      0.72      0.74       510\n",
      "\n",
      "    accuracy                           0.78      1130\n",
      "   macro avg       0.78      0.77      0.77      1130\n",
      "weighted avg       0.78      0.78      0.78      1130\n",
      "\n"
     ]
    }
   ],
   "source": [
    "print(\"Classification Report:\")\n",
    "print(classification_report(true_labels, y_pred, target_names=class_names))\n"
   ]
  },
  {
   "cell_type": "code",
   "execution_count": 21,
   "id": "63b46eab-d3ee-4bcd-b234-fd3c981c86f6",
   "metadata": {},
   "outputs": [
    {
     "name": "stdout",
     "output_type": "stream",
     "text": [
      "\u001b[1m37/37\u001b[0m \u001b[32m━━━━━━━━━━━━━━━━━━━━\u001b[0m\u001b[37m\u001b[0m \u001b[1m25s\u001b[0m 673ms/step - accuracy: 0.8177 - loss: 0.4091 - precision: 0.8177 - recall: 0.8177\n",
      "Test Loss: 0.4516\n",
      "Test Accuracy: 0.7776\n",
      "Test Precision: 0.7776\n",
      "Test Recall: 0.7776\n"
     ]
    }
   ],
   "source": [
    "# Evaluate model on test dataset\n",
    "test_results = model.evaluate(test_dataset)\n",
    "\n",
    "# Extract values\n",
    "test_loss = test_results[0]   # Test loss\n",
    "test_acc = test_results[1]    # Test accuracy\n",
    "test_precision = test_results[2]  # Test precision\n",
    "test_recall = test_results[3]     # Test recall\n",
    "\n",
    "# Print results\n",
    "print(f\"Test Loss: {test_loss:.4f}\")\n",
    "print(f\"Test Accuracy: {test_acc:.4f}\")\n",
    "print(f\"Test Precision: {test_precision:.4f}\")\n",
    "print(f\"Test Recall: {test_recall:.4f}\")\n"
   ]
  },
  {
   "cell_type": "code",
   "execution_count": 22,
   "id": "ff85d5f9-58f6-4452-bb48-8167a3ec8a1b",
   "metadata": {},
   "outputs": [],
   "source": []
  }
 ],
 "metadata": {
  "colab": {
   "provenance": []
  },
  "kernelspec": {
   "display_name": "Python 3 (ipykernel)",
   "language": "python",
   "name": "python3"
  },
  "language_info": {
   "codemirror_mode": {
    "name": "ipython",
    "version": 3
   },
   "file_extension": ".py",
   "mimetype": "text/x-python",
   "name": "python",
   "nbconvert_exporter": "python",
   "pygments_lexer": "ipython3",
   "version": "3.11.7"
  }
 },
 "nbformat": 4,
 "nbformat_minor": 5
}
